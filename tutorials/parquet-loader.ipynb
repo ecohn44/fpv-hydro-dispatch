{
 "cells": [
  {
   "cell_type": "code",
   "execution_count": 3,
   "id": "e2ef3200-2dab-46cf-bb08-a438aad6ee2a",
   "metadata": {},
   "outputs": [
    {
     "ename": "ModuleNotFoundError",
     "evalue": "No module named 'pandas'",
     "output_type": "error",
     "traceback": [
      "\u001b[0;31m---------------------------------------------------------------------------\u001b[0m",
      "\u001b[0;31mModuleNotFoundError\u001b[0m                       Traceback (most recent call last)",
      "Cell \u001b[0;32mIn[3], line 1\u001b[0m\n\u001b[0;32m----> 1\u001b[0m \u001b[38;5;28;01mimport\u001b[39;00m \u001b[38;5;21;01mpandas\u001b[39;00m \u001b[38;5;28;01mas\u001b[39;00m \u001b[38;5;21;01mpd\u001b[39;00m\n",
      "\u001b[0;31mModuleNotFoundError\u001b[0m: No module named 'pandas'"
     ]
    }
   ],
   "source": [
    "import pandas as pd"
   ]
  },
  {
   "cell_type": "code",
   "execution_count": 5,
   "id": "bad738b9-f126-479e-895e-95e5ef58c6a0",
   "metadata": {},
   "outputs": [
    {
     "name": "stdout",
     "output_type": "stream",
     "text": [
      "\u001b[33mWarning:\u001b[0m No available formula with the name \"pandas\". Did you mean pandoc?\n",
      "\u001b[34m==>\u001b[0m \u001b[1mSearching for similarly named formulae and casks...\u001b[0m\n",
      "\u001b[34m==>\u001b[0m \u001b[1mFormulae\u001b[0m\n",
      "\u001b[1mpandoc \u001b[32m✔\u001b[0m\u001b[0m\n",
      "\n",
      "To install \u001b[1mpandoc \u001b[32m✔\u001b[0m\u001b[0m, run:\n",
      "  brew install \u001b[1mpandoc \u001b[32m✔\u001b[0m\u001b[0m\n",
      "\n",
      "\u001b[34m==>\u001b[0m \u001b[1mCasks\u001b[0m\n",
      "panda\n",
      "\n",
      "To install panda, run:\n",
      "  brew install --cask panda\n"
     ]
    }
   ],
   "source": [
    "!brew install pandas"
   ]
  },
  {
   "cell_type": "code",
   "execution_count": null,
   "id": "27b353ce-fbf3-40c4-9eaa-4227f4577ed9",
   "metadata": {},
   "outputs": [],
   "source": []
  }
 ],
 "metadata": {
  "kernelspec": {
   "display_name": "Python 3 (ipykernel)",
   "language": "python",
   "name": "python3"
  },
  "language_info": {
   "codemirror_mode": {
    "name": "ipython",
    "version": 3
   },
   "file_extension": ".py",
   "mimetype": "text/x-python",
   "name": "python",
   "nbconvert_exporter": "python",
   "pygments_lexer": "ipython3",
   "version": "3.12.7"
  }
 },
 "nbformat": 4,
 "nbformat_minor": 5
}
