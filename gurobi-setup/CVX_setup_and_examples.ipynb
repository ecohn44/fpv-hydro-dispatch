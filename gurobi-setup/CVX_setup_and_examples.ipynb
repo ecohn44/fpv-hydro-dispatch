{
 "cells": [
  {
   "cell_type": "markdown",
   "id": "ece1245a",
   "metadata": {},
   "source": [
    "## HW0: Python and Optimization Set-up\n",
    "### EEEL 4220 Fall 2023\n",
    "\n",
    "Author: Ningkun Zheng, Bolun Xu"
   ]
  },
  {
   "cell_type": "markdown",
   "id": "6d459e92",
   "metadata": {},
   "source": [
    "### Intro\n",
    "\n",
    "This script introduces the recommended set-up for using programming to solve optimization problems with Conda + Jupyter Notebook + Python + CVXPY + Gurobi.\n",
    "\n",
    "**If this is the your first time using Jupyter Notebook:** This script is generated using Jupyter Notebook, an application for you to write codes and texts using two different formats, as you will see later in this script. You can also observe your code results directly under each cell, and save the entire workspace into ``.html`` or ``.pdf`` format. After you have setted up everything in this file, you can run ``CVX_setup_and_examples.ipynb`` file and it should generate the same view as in this file.\n",
    "\n",
    "[Conda][0] is a programming environment management system that *protects* your computer from any potential *skewed-ups*. Note that in many programming tasks, not limited to the ones in this course, we will be dealing with open-source software and packages that do not come with warranties. If you installed everything directly on your root environment, you may ended up encourter errors from improper installations, or sometimes packages just don't work with each other. Instead, Conda allows you to \"seal\" everything inside an environment which you can create, duplicate, or delete. So if things went wrong and you don't know how to fix, you can simply delete everything, create a new environment, and start a new life. \n",
    "\n",
    "[Jupyter Notebook][1] is the developentor application in which you type your code and observe the results. You can also write normal text in it. This script is written with Jupyter Notebook.\n",
    "\n",
    "[Python][2] is the programming language which compiles your code into a program.\n",
    "\n",
    "[CVXPY][3] is a package in Python that translates your code into a form that feeds into the solver software.\n",
    "\n",
    "[Gurobi][4] is our preferred solver that does the actual heavy-lifting to solve the optimization. CVXPY comes with a few free open-source solvers but their computation speed and accuracy is not ideal. Gurobi is the ones of the fastest and most reliable optimization solver. As a Columbia University student (or most educational users), you can use Gurobi for free. Otherwise, using Gurobi could cost you quite a bit. \n",
    "\n",
    "PS: **Do not install anything yet! Follow the instruction below.**\n",
    "\n",
    "[0]: https://www.anaconda.com/\n",
    "[1]: https://jupyter.org/\n",
    "[2]: https://www.python.org/\n",
    "[3]: https://www.cvxpy.org/\n",
    "[4]: https://www.gurobi.com/"
   ]
  },
  {
   "attachments": {
    "image.png": {
     "image/png": "[encoded data removed]"
    }
   },
   "cell_type": "markdown",
   "id": "eee23cc0",
   "metadata": {},
   "source": [
    "### Setting up the *environment*\n",
    "\n",
    "* Our first step is to install the conda environment. You can go to [here][1] and choose to install the open source individual version, follow the instructions.\n",
    "\n",
    "* If you are not familiar with conda, please review the [concept of conda][2] and find some useful operation for conda environment in this [conda cheat sheet][3]\n",
    "\n",
    "* Then open Anaconda Command Prompt/Terminal (Window/MacOS), enter the command below, replace **{YourEnvName}** with your prefered enviromment name such as \"PyOpt\" (you can use any name you like). Note that this environment comes with Python version 3.8 and some basic packages, so you don't need to install Python separately. \n",
    ">~~~\n",
    "> conda create --name {YourEnvName} python = 3.8\n",
    ">~~~\n",
    "\n",
    "* Enter the command below in terminal, you will find the prefix become your enviroment name instead of \"base\" environment. Install packages in \"base\" environment is not recommended.\n",
    ">~~~\n",
    "> conda activate {YourEnvName}\n",
    ">~~~\n",
    "\n",
    "![image.png](attachment:image.png)\n",
    "\n",
    "* In the terminal, install Jupyter in your new environment by typing the following command\n",
    ">~~~\n",
    "> pip install jupyterlab\n",
    ">~~~\n",
    "\n",
    "* In the terminal, install CVXPY in your new environment by typing the following command. You can use **pip install** and **conda install** to install any other Python packages, check the package document for more install instruction.\n",
    ">~~~\n",
    "> pip install cvxpy\n",
    ">~~~\n",
    "* In the terminal, enter following command, then in the file directory of Jupyter Notebook homepage, open ``CVX_setup_and_examples.ipynb``. \n",
    ">~~~\n",
    "> jupyter notebook\n",
    ">~~~\n",
    "* You have now setted up everything except of the Gurobi solver, and opened the scripted that generated this instruction. You can now use free solvers to perform optimization.\n",
    "\n",
    "[1]: https://www.anaconda.com/products/distribution\n",
    "[2]: https://conda.io/projects/conda/en/latest/user-guide/concepts/index.html\n",
    "[3]: https://conda.io/projects/conda/en/latest/user-guide/cheatsheet.html"
   ]
  },
  {
   "cell_type": "markdown",
   "id": "5c05bdcf",
   "metadata": {},
   "source": [
    "### Introduction to Python \n",
    "\n",
    "**Basic coding skills is required in this course.** If you have experience in other language but not familiar with Python, use can use this [link](https://www.datacamp.com/groups/shared_links/a4c846b134cc0dde6ef6cf2504b06c61c55ced7b9f8cfdf28811bd634554463b) to finish a free Python tutorial provided by Datacamp.com. \n",
    "\n",
    "**Make sure your are comfortable to answer following questions.**\n",
    "\n"
   ]
  },
  {
   "cell_type": "markdown",
   "id": "277d514d",
   "metadata": {
    "tags": []
   },
   "source": [
    "1. Write a `for` loop to print a number sequence with size 20 start with 1 and gap is 3 (1,4,7,...)."
   ]
  },
  {
   "cell_type": "code",
   "execution_count": null,
   "id": "90c43d18",
   "metadata": {},
   "outputs": [],
   "source": [
    "### Your code in this cell\n"
   ]
  },
  {
   "cell_type": "markdown",
   "id": "be27d124-f0d8-4fcf-9ec2-0393b9c47108",
   "metadata": {},
   "source": [
    "2. Write a `while` loop to print a number of sequence start with 2 and gap is 4, up to 50."
   ]
  },
  {
   "cell_type": "code",
   "execution_count": null,
   "id": "72f772b4-6170-43d6-8456-03df6c84320e",
   "metadata": {},
   "outputs": [],
   "source": [
    "### Your code in this cell\n"
   ]
  },
  {
   "cell_type": "markdown",
   "id": "fda519a1",
   "metadata": {},
   "source": [
    "3. Take two interger values and print greatest among them.\n"
   ]
  },
  {
   "cell_type": "code",
   "execution_count": null,
   "id": "e9af6670",
   "metadata": {},
   "outputs": [],
   "source": [
    "### Your code in this cell\n",
    "a = \n",
    "b ="
   ]
  },
  {
   "cell_type": "markdown",
   "id": "f36cd3ec-be11-450b-8f56-aaad8f4bb9f2",
   "metadata": {},
   "source": [
    "4. Define a vector with the following elements: 1, 2, 3, 4, 5. Output the sum of the second and the fourth element."
   ]
  },
  {
   "cell_type": "code",
   "execution_count": null,
   "id": "5d3c3b42-48ca-43c0-83f3-441187f6ef8d",
   "metadata": {},
   "outputs": [],
   "source": [
    "### Your code in this cell\n"
   ]
  },
  {
   "cell_type": "markdown",
   "id": "3a6851d1-3f48-41b1-8964-067e1ae6bc2e",
   "metadata": {},
   "source": [
    "5. Using a `for` loop, calculate and output the sum of every two different elements from the above five element array, for example, sum of 1st and 2nd, 1st and 3rd, ..."
   ]
  },
  {
   "cell_type": "code",
   "execution_count": null,
   "id": "cbb3cda3-1920-43ef-9806-1b46dd053379",
   "metadata": {},
   "outputs": [],
   "source": [
    "### Your code in this cell\n",
    "\n"
   ]
  },
  {
   "cell_type": "markdown",
   "id": "0e132978",
   "metadata": {},
   "source": [
    "6. Import `numpy` package. Create two 5*5 random Numpy 2-d array, A and B."
   ]
  },
  {
   "cell_type": "code",
   "execution_count": null,
   "id": "696df4b2",
   "metadata": {},
   "outputs": [],
   "source": [
    "### Your code in this cell\n",
    "\n"
   ]
  },
  {
   "cell_type": "markdown",
   "id": "8d4c6a62",
   "metadata": {},
   "source": [
    "7. Calculate following operation of A and B:\n",
    "* Inner product\n",
    "* Dot product\n",
    "* Transpose\n",
    "* Trace\n",
    "* Rank\n",
    "* Determinant\n",
    "* Inverse\n",
    "* Flatten\n",
    "* Eigenvalues and eigenvectors"
   ]
  },
  {
   "cell_type": "code",
   "execution_count": null,
   "id": "62c350ec",
   "metadata": {},
   "outputs": [],
   "source": [
    "### Your code in this cell\n",
    "\n"
   ]
  },
  {
   "cell_type": "markdown",
   "id": "98620797",
   "metadata": {},
   "source": [
    "### Check Optimization Set-up\n",
    "The following section includes two examples of using Python and CVXPY to solve simple optimization problems. You don't need to write any codes in this part. Use these tests to see if you have set up your environment successfully.\n",
    "\n",
    "\n",
    "We check the installation first by listing all installed optimization solvers. You should see the following message printed if you havent't installed Gurobi yet\n",
    ">~~~\n",
    "> Current installed solvers:  ['ECOS', 'ECOS_BB', 'OSQP', 'SCIPY', 'SCS']\n",
    ">~~~"
   ]
  },
  {
   "cell_type": "code",
   "execution_count": null,
   "id": "cf346e7a",
   "metadata": {},
   "outputs": [],
   "source": [
    "import cvxpy as cp\n",
    "\n",
    "# Print the installed solver to see if GUROBI is installed correctly\n",
    "print(\"Current installed solvers: \", cp.installed_solvers())"
   ]
  },
  {
   "cell_type": "markdown",
   "id": "b8683ec1",
   "metadata": {},
   "source": [
    "###  Example: Linear Program\n",
    "\n",
    "We start by performing a linear programming example:\n",
    "\n",
    "**Test 1:**  \n",
    "***x<sub>1</sub>, x<sub>2</sub>*** and ***x<sub>3</sub>*** are **nonnegative variables** that satisfy the following relationships:\n",
    "  \n",
    "*x<sub>1</sub>* + *x<sub>2</sub>* $\\le$ 3  \n",
    "*x<sub>2</sub>* + *x<sub>3</sub>* $\\le$ 10  \n",
    "*x<sub>3</sub>*  $\\ge$ 0\n",
    "\n",
    "What is the minimum value of  ***x<sub>1</sub> + 3x<sub>2</sub> - 2x<sub>3</sub>*** ?"
   ]
  },
  {
   "cell_type": "markdown",
   "id": "e3d28862",
   "metadata": {},
   "source": [
    "#### Step One: define variables\n",
    "\n",
    "The first step of programming an optimization problem is to define the variables. Here we define three variables ``x1, x2, x3`` all as nonnegative variables, so that the optimization will only search for nonnegative values for these three variables. \n",
    "\n",
    "This is equivalent to adding $x_1 \\geq 0$, $x_2 \\geq 0$, $x_3 \\geq 0$ to constriants, but easier to type as it is very common for engineering problems to require nonnegative values.\n",
    "\n",
    "Note in the code syntax that we start with ``cp.`` because we have imported ``cvxpy`` as ``cp`` earlier."
   ]
  },
  {
   "cell_type": "code",
   "execution_count": null,
   "id": "222681ca",
   "metadata": {},
   "outputs": [],
   "source": [
    "# Define nonnegative variables x1, x2, and x3\n",
    "x1 = cp.Variable(nonneg = True)\n",
    "x2 = cp.Variable(nonneg = True)\n",
    "x3 = cp.Variable(nonneg = True)"
   ]
  },
  {
   "cell_type": "markdown",
   "id": "8b45a86f",
   "metadata": {},
   "source": [
    "Next, we define constraints as"
   ]
  },
  {
   "cell_type": "code",
   "execution_count": null,
   "id": "b79ea07d",
   "metadata": {},
   "outputs": [],
   "source": [
    "# Define constraints\n",
    "con = [x1 + x2 <= 3,\n",
    "       x2 + x3 <= 10,\n",
    "       x3 >= 0] # Equavalent to nonnegative variable x3"
   ]
  },
  {
   "cell_type": "markdown",
   "id": "94083c61",
   "metadata": {},
   "source": [
    "Now we define the objective function as"
   ]
  },
  {
   "cell_type": "code",
   "execution_count": null,
   "id": "8a4d55ce",
   "metadata": {},
   "outputs": [],
   "source": [
    "# Define the objective\n",
    "obj = cp.Minimize(x1 + 3*x2 -2*x3)"
   ]
  },
  {
   "cell_type": "markdown",
   "id": "c776439c",
   "metadata": {},
   "source": [
    "We now assemble the our objective function ``obj`` and constraints ``con`` into an optimization problem named ``prob1``"
   ]
  },
  {
   "cell_type": "code",
   "execution_count": null,
   "id": "24e830ec",
   "metadata": {},
   "outputs": [],
   "source": [
    "# Solve the problem\n",
    "prob1 = cp.Problem(obj, con)"
   ]
  },
  {
   "cell_type": "markdown",
   "id": "997b4cbf",
   "metadata": {},
   "source": [
    "Now we solve this problem with the default ECOS solver"
   ]
  },
  {
   "cell_type": "code",
   "execution_count": null,
   "id": "540b2e2d",
   "metadata": {},
   "outputs": [],
   "source": [
    "prob1.solve(solver = None) # You may specify the solver here, \n",
    "                           # otherwise ECOS is used for LPs by default\n",
    "\n"
   ]
  },
  {
   "cell_type": "markdown",
   "id": "190d256f",
   "metadata": {},
   "source": [
    "Print the results. The optimized objective value is stored in ``prob1.value``. To look up variables values, use ``x1.value`` (remember ``x1`` is defined as a CVXPY variable instead of a regular Python variable.)"
   ]
  },
  {
   "cell_type": "code",
   "execution_count": null,
   "id": "37fe9b6e",
   "metadata": {},
   "outputs": [],
   "source": [
    "print(\"Optimal value: \", prob1.value)\n",
    "print(\"Optimal variables: \", f\"x1={x1.value}, x2={x2.value}, x3={x3.value}\")"
   ]
  },
  {
   "cell_type": "markdown",
   "id": "2942e7be",
   "metadata": {},
   "source": [
    "#### Test 2:\n",
    "\n",
    "We now demonstrate an optimization example by defining the problem directly using matrix format instead of equation sets \n",
    "\n",
    "Minimize ***c<sup>T</sup>x***, where nonnegative variable ***x*** is subject to ***Ax $\\ge$ b***, given\n",
    "  \n",
    "$c= \\begin{bmatrix}4\\\\5\\\\6\n",
    "\\end{bmatrix}$,\n",
    "$A = \\begin{bmatrix}3 & 2 & 1\\\\\n",
    "                        2 & -2& 2\\\\\n",
    "                        1 & 2 & -3\n",
    "\\end{bmatrix}$,\n",
    "$b= \\begin{bmatrix}1\\\\3\\\\5\n",
    "\\end{bmatrix}$  \n"
   ]
  },
  {
   "cell_type": "markdown",
   "id": "b0e2ab06",
   "metadata": {},
   "source": [
    "First we need to import ``numpy`` to support matrix operations"
   ]
  },
  {
   "cell_type": "code",
   "execution_count": null,
   "id": "9a45922c",
   "metadata": {},
   "outputs": [],
   "source": [
    "# Import Numpy to input arrays and matrix\n",
    "import numpy as np"
   ]
  },
  {
   "cell_type": "markdown",
   "id": "2c59d6c7",
   "metadata": {},
   "source": [
    "We first define vector and matrix parameters using ``numpy``"
   ]
  },
  {
   "cell_type": "code",
   "execution_count": null,
   "id": "f6941705",
   "metadata": {},
   "outputs": [],
   "source": [
    "# Define parameters\n",
    "c = np.array((4, 5, 6))\n",
    "A = np.array([(3, 2, 1),\n",
    "              (2,-2, 2),\n",
    "              (1, 2,-3)])\n",
    "b = np.array((1, 3, 5))"
   ]
  },
  {
   "cell_type": "markdown",
   "id": "3616cbdc",
   "metadata": {},
   "source": [
    "Now we define variable ``x`` as a vector with the same length as ``c``"
   ]
  },
  {
   "cell_type": "code",
   "execution_count": null,
   "id": "7c710325",
   "metadata": {},
   "outputs": [],
   "source": [
    "# You can define a vector or matrix variable, by defining the size of it\n",
    "# In this case, we define an array-like variable with a proper size, which is 3 in this case\n",
    "x = cp.Variable(len(c), nonneg = True)"
   ]
  },
  {
   "cell_type": "markdown",
   "id": "618bc86b",
   "metadata": {},
   "source": [
    "Define the optimization problem as ``prob2``. Use ``@`` to represent matrix multiplications, i.e., $c^\\top x$ will be programmed to ``c.T @ x``"
   ]
  },
  {
   "cell_type": "code",
   "execution_count": null,
   "id": "7d883922",
   "metadata": {},
   "outputs": [],
   "source": [
    "# Create and Solve the problem\n",
    "prob2 = cp.Problem(cp.Minimize(c.T @ x), # Define objective, c needs to be transposed\n",
    "                   [A @ x >= b])       # Define constraint"
   ]
  },
  {
   "cell_type": "markdown",
   "id": "b324bbbd",
   "metadata": {},
   "source": [
    "Solve the optimization problem"
   ]
  },
  {
   "cell_type": "code",
   "execution_count": null,
   "id": "911b51e6",
   "metadata": {},
   "outputs": [],
   "source": [
    "prob2.solve(solver = None) "
   ]
  },
  {
   "cell_type": "markdown",
   "id": "d13885e6",
   "metadata": {},
   "source": [
    "Print the results"
   ]
  },
  {
   "cell_type": "code",
   "execution_count": null,
   "id": "b8e5379a",
   "metadata": {},
   "outputs": [],
   "source": [
    "# Print result\n",
    "print(\"Optimal value: \", prob2.value)\n",
    "print(\"Optimal variables: \", f\"x={x.value}\")\n"
   ]
  },
  {
   "cell_type": "markdown",
   "id": "88cdf6b8",
   "metadata": {},
   "source": [
    "Or"
   ]
  },
  {
   "cell_type": "code",
   "execution_count": null,
   "id": "7288a488",
   "metadata": {},
   "outputs": [],
   "source": [
    "print(\"Optimal variables: \", f\"x1={x[0].value}, x2={x[1].value}, x3={x[2].value}\")"
   ]
  },
  {
   "cell_type": "code",
   "execution_count": null,
   "id": "fb749562",
   "metadata": {},
   "outputs": [],
   "source": []
  }
 ],
 "metadata": {
  "kernelspec": {
   "display_name": "Python 3 (ipykernel)",
   "language": "python",
   "name": "python3"
  },
  "language_info": {
   "codemirror_mode": {
    "name": "ipython",
    "version": 3
   },
   "file_extension": ".py",
   "mimetype": "text/x-python",
   "name": "python",
   "nbconvert_exporter": "python",
   "pygments_lexer": "ipython3",
   "version": "3.9.13"
  }
 },
 "nbformat": 4,
 "nbformat_minor": 5
}
