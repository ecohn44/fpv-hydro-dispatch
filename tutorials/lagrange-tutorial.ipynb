{
 "cells": [
  {
   "cell_type": "code",
   "execution_count": 1,
   "id": "ad36a5eb",
   "metadata": {},
   "outputs": [],
   "source": [
    "import numpy as np"
   ]
  },
  {
   "cell_type": "code",
   "execution_count": 2,
   "id": "528d9ef3",
   "metadata": {},
   "outputs": [],
   "source": [
    "# Define parameters \n",
    "T = 10 # number of periods\n",
    "U = 100 # Cross-period coupling constraint (water contract)\n",
    "f = lambda x: x**2"
   ]
  },
  {
   "cell_type": "code",
   "execution_count": 6,
   "id": "f000dab5",
   "metadata": {},
   "outputs": [
    {
     "data": {
      "text/plain": [
       "4"
      ]
     },
     "execution_count": 6,
     "metadata": {},
     "output_type": "execute_result"
    }
   ],
   "source": [
    "f(2)"
   ]
  },
  {
   "cell_type": "code",
   "execution_count": 7,
   "id": "78cb8af1",
   "metadata": {},
   "outputs": [],
   "source": [
    "# Initialize variables\n",
    "x = np.zeros(T)\n",
    "lambda_ = 0.1 # intial lagrangian multiplier\n",
    "alpha = 0.01 # learning rate"
   ]
  },
  {
   "cell_type": "code",
   "execution_count": 8,
   "id": "eed60c9f",
   "metadata": {},
   "outputs": [
    {
     "name": "stdout",
     "output_type": "stream",
     "text": [
      "Optimal x:  [0. 0. 0. 0. 0. 0. 0. 0. 0. 0.]\n"
     ]
    }
   ],
   "source": [
    "# Lagrangian relaxation iterations\n",
    "for iter in range(1000):\n",
    "    # single period optimization \n",
    "    for t in range(T):\n",
    "        # BUG: x[t] always returns 0 no matter what\n",
    "        x[t] = np.argmin(f(x[t]) + lambda_*x[t])\n",
    "\n",
    "    # update lagrangian multiplier\n",
    "    constraint_violation = np.sum(x) - U # water contract constraint in equality formulation \n",
    "    lambda_ = lambda_ + alpha*constraint_violation\n",
    "\n",
    "    # check for convergence \n",
    "    if abs(constraint_violation) < 1e-6:\n",
    "        break\n",
    "\n",
    "print(\"Optimal x: \", x)"
   ]
  },
  {
   "cell_type": "code",
   "execution_count": 9,
   "id": "d1801feb",
   "metadata": {},
   "outputs": [
    {
     "data": {
      "text/plain": [
       "array([0., 0., 0., 0., 0., 0., 0., 0., 0., 0.])"
      ]
     },
     "execution_count": 9,
     "metadata": {},
     "output_type": "execute_result"
    }
   ],
   "source": [
    "x"
   ]
  },
  {
   "cell_type": "code",
   "execution_count": 10,
   "id": "3c8c5ccb",
   "metadata": {},
   "outputs": [
    {
     "data": {
      "text/plain": [
       "999"
      ]
     },
     "execution_count": 10,
     "metadata": {},
     "output_type": "execute_result"
    }
   ],
   "source": [
    "iter"
   ]
  },
  {
   "cell_type": "code",
   "execution_count": 13,
   "id": "c085c08d",
   "metadata": {},
   "outputs": [
    {
     "data": {
      "text/plain": [
       "-100.0"
      ]
     },
     "execution_count": 13,
     "metadata": {},
     "output_type": "execute_result"
    }
   ],
   "source": [
    "constraint_violationx"
   ]
  },
  {
   "cell_type": "code",
   "execution_count": 14,
   "id": "7992495c",
   "metadata": {},
   "outputs": [
    {
     "data": {
      "text/plain": [
       "0"
      ]
     },
     "execution_count": 14,
     "metadata": {},
     "output_type": "execute_result"
    }
   ],
   "source": [
    " np.argmin(f(x[t]) + lambda_*x[t])"
   ]
  },
  {
   "cell_type": "code",
   "execution_count": null,
   "id": "1cdf84f0",
   "metadata": {},
   "outputs": [],
   "source": []
  }
 ],
 "metadata": {
  "kernelspec": {
   "display_name": "Python 3 (ipykernel)",
   "language": "python",
   "name": "python3"
  },
  "language_info": {
   "codemirror_mode": {
    "name": "ipython",
    "version": 3
   },
   "file_extension": ".py",
   "mimetype": "text/x-python",
   "name": "python",
   "nbconvert_exporter": "python",
   "pygments_lexer": "ipython3",
   "version": "3.11.4"
  }
 },
 "nbformat": 4,
 "nbformat_minor": 5
}
