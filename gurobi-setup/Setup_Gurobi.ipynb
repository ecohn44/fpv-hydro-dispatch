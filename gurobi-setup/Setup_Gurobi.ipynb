{
 "cells": [
  {
   "cell_type": "markdown",
   "id": "772662a0",
   "metadata": {},
   "source": [
    "## Optimization Set-up Guide 2 - Set-up Gurobi\n",
    "### EAEE4220 Fall 2021\n",
    "\n",
    "Author: Zhuoran Zhang, Bolun Xu"
   ]
  },
  {
   "cell_type": "markdown",
   "id": "88642551-5685-4aec-9b6b-4faf10f6ce79",
   "metadata": {},
   "source": [
    "### Intro\n",
    "\n",
    "**Please complete the first set-up guide first before starting this one!**\n",
    "\n",
    "This script explains how to include the Gurobi optimizer in CVXPY. "
   ]
  },
  {
   "cell_type": "markdown",
   "id": "b89731ae-cf6f-4a81-a1a3-90f9f1ada92b",
   "metadata": {},
   "source": [
    "### Install Gurobi\n",
    "\n",
    "* First, register a [Gurobi][1] account using your Columbia email. \n",
    "* Log-in into your Gurobi account, obtain an academic license under Academia. \n",
    "* Install the newest version of Gurobi optimizer.\n",
    "* Start termianl or command line (don't use Conda environment for this, start the terminal directly from your main system), and activate your Gurobi installation per instructions on your license page. **NOTE:** Gurobi must be activated either via Columbia network on campus or through Columbia VPN if you are off-campus. \n",
    "\n",
    "\n",
    "[1]: https://www.gurobi.com/"
   ]
  },
  {
   "cell_type": "markdown",
   "id": "a3ecbb09-3303-4a50-970e-8a05aa7a2af4",
   "metadata": {},
   "source": [
    "### Check installation \n",
    "\n",
    "**First, restart your Jupyter Notebook after setting up Gurobi.**\n",
    "\n",
    "Execute the following command in terminal to install the ``gurobipy`` package that supports Gurobi in Python\n",
    ">~~~python\n",
    ">pip install gurobipy\n",
    ">~~~\n",
    "\n",
    "Then execute the following comment and you should see Gurobi included in the installed solvers."
   ]
  },
  {
   "cell_type": "code",
   "execution_count": null,
   "id": "933d2397-be17-4a3c-be2e-4369ae030b20",
   "metadata": {},
   "outputs": [],
   "source": [
    "import cvxpy as cp\n",
    "import gurobipy # this package should come with your Gurobi installation\n",
    "\n",
    "# Print the installed solver to see if GUROBI is installed correctly\n",
    "print(\"Current installed solvers: \", cp.installed_solvers())"
   ]
  },
  {
   "cell_type": "markdown",
   "id": "d0986a05",
   "metadata": {},
   "source": [
    "###  Example: Linear Program\n",
    "\n",
    "We now repeat the same optimization problem with the default open-source solver ``ECOS_BB`` and ``Gurobi``, did you see anything different?\n",
    "\n",
    "#### Test 1:\n",
    "***x<sub>1</sub>, x<sub>2</sub>*** and ***x<sub>3</sub>*** are **nonnegative variables** that satisfy the following relationships:\n",
    "  \n",
    "*x<sub>1</sub>* + *x<sub>2</sub>* $\\le$ 3  \n",
    "*x<sub>2</sub>* + *x<sub>3</sub>* $\\le$ 10  \n",
    "*x<sub>3</sub>*  $\\ge$ 0\n",
    "\n",
    "What is the minimum value of  ***x<sub>1</sub> + 3x<sub>2</sub> - 2x<sub>3</sub>*** ?"
   ]
  },
  {
   "cell_type": "code",
   "execution_count": null,
   "id": "4d79fbe8-8c92-4f24-993e-17c0119c960a",
   "metadata": {},
   "outputs": [],
   "source": [
    "# Define nonnegative variables x1, x2, and x3\n",
    "x1 = cp.Variable(nonneg = True)\n",
    "x2 = cp.Variable(nonneg = True)\n",
    "x3 = cp.Variable(nonneg = True)\n",
    "\n",
    "# Define constraints\n",
    "constraints = [ x1 + x2 <= 3,\n",
    "                x2 + x3 <= 10,\n",
    "                x3 >= 0] # Equavalent to nonnegative variable x3\n",
    "\n",
    "# Define the objective\n",
    "obj = cp.Minimize(x1 + 3*x2 -2*x3)"
   ]
  },
  {
   "cell_type": "markdown",
   "id": "447ddfc6-1e9c-4198-bd9e-188956621ac6",
   "metadata": {},
   "source": [
    "Now solve the optimization using the default ``ECOS`` solver"
   ]
  },
  {
   "cell_type": "code",
   "execution_count": null,
   "id": "f56eefd9-f326-4e29-af30-4d802a3c57bd",
   "metadata": {},
   "outputs": [],
   "source": [
    "# Solve the problem\n",
    "prob1 = cp.Problem(obj, constraints)\n",
    "prob1.solve(solver = None) # You may specify the solver here, \n",
    "                           # otherwise ECOS is used for LPs by default\n",
    "\n",
    "print(\"Optimal value: \", prob1.value)\n",
    "print(\"Optimal variables: \", f\"x1={x1.value}, x2={x2.value}, x3={x3.value}\")"
   ]
  },
  {
   "cell_type": "markdown",
   "id": "80987ed9-5a78-4f44-a4b9-17fd3bc6f0a9",
   "metadata": {},
   "source": [
    "Solve the same problem again but using Gurobi"
   ]
  },
  {
   "cell_type": "code",
   "execution_count": null,
   "id": "0b401068-4bcb-4cba-a0c8-9d6a8a5b6e10",
   "metadata": {},
   "outputs": [],
   "source": [
    "# Solve the problem with GUROBI solver\n",
    "prob1.solve(solver = \"GUROBI\")\n",
    "print(\"GUROBI - optimal value: \", prob1.value)\n",
    "print(\"GUROBI - optimal variables: \", f\"x1={x1.value}, x2={x2.value}, x3={x3.value}\")"
   ]
  },
  {
   "cell_type": "markdown",
   "id": "8524e227",
   "metadata": {},
   "source": [
    "#### Test 2:\n",
    "\n",
    "Minimize ***c<sup>T</sup>x***, where nonnegative variable ***x*** is subject to ***Ax $\\ge$ b***, given\n",
    "  \n",
    "$c= \\begin{bmatrix}4\\\\5\\\\6\n",
    "\\end{bmatrix}$,\n",
    "$A = \\begin{bmatrix}3 & 2 & 1\\\\\n",
    "                        2 & -2& 2\\\\\n",
    "                        1 & 2 & -3\n",
    "\\end{bmatrix}$,\n",
    "$b= \\begin{bmatrix}1\\\\3\\\\5\n",
    "\\end{bmatrix}$  \n"
   ]
  },
  {
   "cell_type": "code",
   "execution_count": null,
   "id": "91aa3ff1",
   "metadata": {},
   "outputs": [],
   "source": [
    "# Import Numpy to input arrays and matrix\n",
    "import numpy as np"
   ]
  },
  {
   "cell_type": "code",
   "execution_count": null,
   "id": "272c993b",
   "metadata": {},
   "outputs": [],
   "source": [
    "# Define parameters\n",
    "c = np.array((4, 5, 6))\n",
    "A = np.array([(3, 2, 1),\n",
    "              (2,-2, 2),\n",
    "              (1, 2,-3)])\n",
    "b = np.array((1, 3, 5))\n",
    "\n",
    "# You can define a vector or matrix variable, by defining the size of it\n",
    "# In this case, we define an array-like variable with a proper size, which is 3 in this case\n",
    "x = cp.Variable(len(c), nonneg = True)\n",
    "\n",
    "# Create and Solve the problem\n",
    "prob2 = cp.Problem(cp.Minimize(c.T @ x), # Define objective, c needs to be transposed\n",
    "                   [A @ x >= b])       # Define constraint\n",
    "prob2.solve(solver = None) \n",
    "\n",
    "# Print result\n",
    "print(\"Optimal value: \", prob2.value)\n",
    "print(\"Optimal variables: \", f\"x={x.value}\")\n",
    "print(\"\")\n",
    "\n",
    "# Solve the problem with GUROBI solver\n",
    "prob2.solve(solver = \"GUROBI\")\n",
    "print(\"GUROBI - optimal value: \", prob2.value)\n",
    "print(\"GUROBI - optimal variables: \", f\"x={x.value}\")\n"
   ]
  },
  {
   "cell_type": "code",
   "execution_count": null,
   "id": "ac7b21fa-d8ee-42f8-b1de-c0dfccf1fdf9",
   "metadata": {},
   "outputs": [],
   "source": []
  }
 ],
 "metadata": {
  "kernelspec": {
   "display_name": "Python 3 (ipykernel)",
   "language": "python",
   "name": "python3"
  },
  "language_info": {
   "codemirror_mode": {
    "name": "ipython",
    "version": 3
   },
   "file_extension": ".py",
   "mimetype": "text/x-python",
   "name": "python",
   "nbconvert_exporter": "python",
   "pygments_lexer": "ipython3",
   "version": "3.9.13"
  }
 },
 "nbformat": 4,
 "nbformat_minor": 5
}
